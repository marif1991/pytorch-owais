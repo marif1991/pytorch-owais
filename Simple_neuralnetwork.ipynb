{
  "nbformat": 4,
  "nbformat_minor": 0,
  "metadata": {
    "colab": {
      "provenance": [],
      "authorship_tag": "ABX9TyM2oDN8OwPfVKMU67BtEIp7",
      "include_colab_link": true
    },
    "kernelspec": {
      "name": "python3",
      "display_name": "Python 3"
    },
    "language_info": {
      "name": "python"
    }
  },
  "cells": [
    {
      "cell_type": "markdown",
      "metadata": {
        "id": "view-in-github",
        "colab_type": "text"
      },
      "source": [
        "<a href=\"https://colab.research.google.com/github/marif1991/pytorch-owais/blob/main/Simple_neuralnetwork.ipynb\" target=\"_parent\"><img src=\"https://colab.research.google.com/assets/colab-badge.svg\" alt=\"Open In Colab\"/></a>"
      ]
    },
    {
      "cell_type": "code",
      "execution_count": 29,
      "metadata": {
        "id": "eT2iy2UHg3hm"
      },
      "outputs": [],
      "source": [
        "import torch\n",
        "import torch.nn as nn\n",
        "import torch.nn.functional as F"
      ]
    },
    {
      "cell_type": "code",
      "source": [
        "# Create a model class that inherits a nn.module\n",
        "class Model(nn.Module):\n",
        "  # Input layer (4 feautres of the flower) -->\n",
        "  # Hidden Layer1 (number of neurons) -->\n",
        "  # H2 (n) -->\n",
        "  # Output (3 classes of iris flower)\n",
        "  def __init__(self, in_features=4, h1=8, h2=9, out_features=3):\n",
        "    super().__init__() #\n",
        "    self.fc1 = nn.Linear(in_features,h1)\n",
        "    self.fc2 = nn.linear(h1,h2)\n",
        "    self.out = nn.linear(h2,out_features)\n",
        "\n",
        "  def forward(self,x):\n",
        "    x = F.relu(self.fc1(x))\n",
        "    x = F.relu(self.fc2(x))\n",
        "    x = self.out(x)\n",
        "    return x"
      ],
      "metadata": {
        "id": "AOf4q6UbkoUM"
      },
      "execution_count": 41,
      "outputs": []
    },
    {
      "cell_type": "code",
      "source": [
        "# Pick a manual seed for randomization\n",
        "torch.manual_seed(41)\n",
        "model = Model"
      ],
      "metadata": {
        "id": "1Hb70yxwAa3z"
      },
      "execution_count": 42,
      "outputs": []
    }
  ]
}